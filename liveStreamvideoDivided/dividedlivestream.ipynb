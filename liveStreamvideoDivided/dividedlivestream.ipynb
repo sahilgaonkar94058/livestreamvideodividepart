{
 "cells": [
  {
   "cell_type": "code",
   "execution_count": 3,
   "id": "84ec3a9c",
   "metadata": {},
   "outputs": [],
   "source": [
    "import cv2\n"
   ]
  },
  {
   "cell_type": "code",
   "execution_count": 4,
   "id": "bdf4b49d",
   "metadata": {},
   "outputs": [],
   "source": [
    "cap = cv2.VideoCapture(0)\n",
    "while(True):\n",
    "    # Capture frame-by-frame\n",
    "    ret, frame = cap.read()\n",
    "    \n",
    "    a = frame[80:270,120:500]\n",
    "    b = frame[50:570,200:800]\n",
    "    d = frame[120:450,300:600]\n",
    "    e = frame[100:800,80:500]\n",
    "    \n",
    "    cv2.imshow('b',b)\n",
    "    cv2.imshow('a',a)\n",
    "    cv2.imshow('d',d)\n",
    "    cv2.imshow('e',e)\n",
    "\n",
    "    if cv2.waitKey(25)  == 13:\n",
    "        break\n",
    "\n",
    "# When everything done, release the capture\n",
    "cap.release()\n",
    "cv2.destroyAllWindows()"
   ]
  },
  {
   "cell_type": "code",
   "execution_count": null,
   "id": "b72ade84",
   "metadata": {},
   "outputs": [],
   "source": []
  }
 ],
 "metadata": {
  "kernelspec": {
   "display_name": "Python 3",
   "language": "python",
   "name": "python3"
  },
  "language_info": {
   "codemirror_mode": {
    "name": "ipython",
    "version": 3
   },
   "file_extension": ".py",
   "mimetype": "text/x-python",
   "name": "python",
   "nbconvert_exporter": "python",
   "pygments_lexer": "ipython3",
   "version": "3.8.8"
  }
 },
 "nbformat": 4,
 "nbformat_minor": 5
}
